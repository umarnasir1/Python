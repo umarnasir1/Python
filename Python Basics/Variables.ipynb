{
 "cells": [
  {
   "cell_type": "markdown",
   "metadata": {},
   "source": [
    "## Variables \n",
    "\n",
    "* Variables \n",
    "* Assignment Operator"
   ]
  },
  {
   "cell_type": "code",
   "execution_count": null,
   "metadata": {},
   "outputs": [],
   "source": [
    "# Variables\n",
    "\n",
    "# Variables are used all the time in Python! \n",
    "# When a variable is created an space of memory is allocated for that variable. \n",
    "# Using variables, as opposed to just raw numbers, has many advantages. Below is the example:\n",
    "\n",
    "mv_population = 74728 #(stores the population of mountain view.)\n",
    "\n",
    "# = assignment operator\n",
    "\n",
    "# This assigns the item on the right to the name on the left, which is actually a little different than mathematical \n",
    "#   quality, as 74728 does not hold the value of mv_population. In any case, whatever term is on the left side, is now \n",
    "#   a name for whatever value is on the right side. Once a value has been assigned to a variable name, you can access \n",
    "#   the value from the variable name.\n",
    "\n",
    "# EX\n",
    "x = 3\n",
    "y = 4\n",
    "z = 5\n",
    "\n",
    "# to assign multiple variables at once. These three assignments can be abbreviated using multiple assignments like \n",
    "#    this\n",
    "\n",
    "x, y, z = 3, 4, 5\n",
    "\n",
    "# You can use this when you're assigning closely related variables like the width and height of an object or an object \n",
    "#   coordinates.\n",
    "# However, the above isn't a great way to assign variables in most cases, because our variable names should be \n",
    "#   descriptive of the values they hold like population, area instead of x and y.\n",
    "\n",
    "# There are a few things to watch out for when naming variables in Python.\n",
    "# 1. Only use ordinary letters (no caps), numbers and underscores in your variable names. They can’t have spaces, and need to \n",
    "#   start with a letter or underscore. (table_6, table6)\n",
    "# 2. You can’t use Python's reserved words, or \"keywords,\" as variable names. There are reserved words in every programming language that have important purposes. Creating names that are descriptive of the values often will help you avoid using any of these keywords.\n",
    "# 3. The pythonic way to name variables is to use all lowercase letters and underscores to separate words.\n",
    "\n",
    "YES \n",
    "views_per_day = 550\n",
    "my_height = 58\n",
    "my_lat = 40\n",
    "my_long = 105\n",
    "greeting = \"Bruce\"\n",
    "_my_name = \"Tim\"\n",
    "tim45 = \"Good\"\n",
    "tim_was_57 = \"Hellow\"\n",
    "greeting = \"There\"\n",
    "\n",
    "# Also a variable cannot start with number e.x., 1Tim\n",
    "\n",
    "NO\n",
    "viewsPerDay = 550\n",
    "my height = 58\n",
    "MYLONG = 40\n",
    "MyLat = 65\n",
    "\n",
    "# Though the last two of these would work in python, they are not pythonic ways to name variables. The way we name \n",
    "#   variables is called snake case, because we tend to connect the words with underscores.\n",
    "\n"
   ]
  },
  {
   "cell_type": "code",
   "execution_count": null,
   "metadata": {},
   "outputs": [],
   "source": [
    "#Assignment Operators\n",
    "\n",
    "#Example\n",
    "mv_population = 74728\n",
    "mv_population = 74728 + 4000 - 600 #updating variable\n",
    "# or\n",
    "mv_population += 4000 - 600\n",
    "print(mv_population) # 78128\n",
    "\n",
    "# Below are the assignment operators from the video. You can also use *= in a similar way, but this is less common \n",
    "#   than the operations shown below. You can find some practice with much of what we have already covered here.\n",
    "# -=\n",
    "# *= ( all arithematic operators followed by = sign )"
   ]
  }
 ],
 "metadata": {
  "kernelspec": {
   "display_name": "Python 3",
   "language": "python",
   "name": "python3"
  },
  "language_info": {
   "codemirror_mode": {
    "name": "ipython",
    "version": 3
   },
   "file_extension": ".py",
   "mimetype": "text/x-python",
   "name": "python",
   "nbconvert_exporter": "python",
   "pygments_lexer": "ipython3",
   "version": "3.7.1"
  }
 },
 "nbformat": 4,
 "nbformat_minor": 2
}
